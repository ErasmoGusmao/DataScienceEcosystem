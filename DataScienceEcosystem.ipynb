{
 "cells": [
  {
   "cell_type": "markdown",
   "id": "63b5c7cd-6cf8-4c0c-888b-327cd18652fe",
   "metadata": {},
   "source": [
    "Exercise 2: Create markdown cell with title of the notebook"
   ]
  },
  {
   "cell_type": "markdown",
   "id": "7abd921a-c853-4331-93d5-dc95bd6b2259",
   "metadata": {},
   "source": [
    "# Data Science Tools and Ecosystem"
   ]
  },
  {
   "cell_type": "markdown",
   "id": "a0c95099-1868-45a9-8053-af432072d97a",
   "metadata": {},
   "source": [
    "Exercise 3 - Create a markdown cell for an introduction"
   ]
  },
  {
   "cell_type": "markdown",
   "id": "57e7fb10-dc5e-4015-ae88-d55d4e968986",
   "metadata": {},
   "source": [
    "## In this notebook, Data Science Tools and Ecosystem are summarized."
   ]
  },
  {
   "cell_type": "markdown",
   "id": "294512b6-90cf-4e28-8194-a2fc19fbbfc5",
   "metadata": {},
   "source": [
    "Exercise 10 - Insert a markdown cell to list Objectives"
   ]
  },
  {
   "cell_type": "markdown",
   "id": "08e529fc-b2e9-4bf6-87c3-e8411e5d3a55",
   "metadata": {},
   "source": [
    "### __Objectives__:\n",
    "\n",
    "* Some of the popular languages that Data Scientists\n",
    "* Some of the commonly used libraries used by Data Scientists\n",
    "* Data Science tools\n",
    "* Few examples of evaluating arithmetic expressions in Python"
   ]
  },
  {
   "cell_type": "markdown",
   "id": "6aafedff-c6f3-4986-b6d6-efcfb0589074",
   "metadata": {},
   "source": [
    "Exercise 4 - Create a markdown cell to list data science languages"
   ]
  },
  {
   "cell_type": "markdown",
   "id": "efa4c0b8-960f-4345-a7ad-e9cfa6283d0e",
   "metadata": {},
   "source": [
    "### Some of the popular languages that Data Scientists use are:\n",
    "1. Python\n",
    "2. R\n",
    "3. SQL\n",
    "4. Julia\n",
    "5. MATLAB\n",
    "6. Scala"
   ]
  },
  {
   "cell_type": "markdown",
   "id": "cdad9d5b-d9f4-48b8-bf8c-5fea303e210a",
   "metadata": {},
   "source": [
    "Exercise 5 - Create a markdown cell to list data science libraries"
   ]
  },
  {
   "cell_type": "markdown",
   "id": "46444910-290c-4ccd-82b9-e0362718a231",
   "metadata": {},
   "source": [
    "### Some of the commonly used libraries used by Data Scientists include:\n",
    "1. Pandas (Python)\n",
    "2. NumPy (Python)\n",
    "3. TensorFlow (Python)\n",
    "4. Scikit-learn (Python)\n",
    "5. Matplotlib (Python)\n",
    "6. ggplot2 (R)\n",
    "7. dplyr (R)\n",
    "8. caret (R)"
   ]
  },
  {
   "cell_type": "markdown",
   "id": "3dc82ef6-1b25-43af-9a19-37fb66ec6f59",
   "metadata": {},
   "source": [
    "Exercise 6 - Create a markdown cell with a table of Data Science tools"
   ]
  },
  {
   "cell_type": "markdown",
   "id": "a788a5ed-351c-4399-81ac-94f7d3baf36d",
   "metadata": {},
   "source": [
    "| Data Science Tools |\n",
    "|-------------------|\n",
    "|Jupyter Notebook|\n",
    "| RStudio|\n",
    "| Spyder |\n"
   ]
  },
  {
   "cell_type": "markdown",
   "id": "ebde0741-d2b8-4b30-96ed-dd4b6b240d02",
   "metadata": {},
   "source": [
    "Exercise 7 - Create a markdown cell introducing arithmetic expression examples"
   ]
  },
  {
   "cell_type": "markdown",
   "id": "db78dacc-1ef9-4536-8296-d73007075d96",
   "metadata": {},
   "source": [
    "### Below are a few examples of evaluating arithmetic expressions in Python"
   ]
  },
  {
   "cell_type": "markdown",
   "id": "8009e151-31ff-4f42-b444-19e01e65168d",
   "metadata": {},
   "source": [
    "Exercise 8 - Create a code cell to multiply and add numbers"
   ]
  },
  {
   "cell_type": "code",
   "execution_count": 4,
   "id": "c087b28c-5653-4a0f-9dfe-8b73e06e458a",
   "metadata": {},
   "outputs": [
    {
     "data": {
      "text/plain": [
       "17"
      ]
     },
     "execution_count": 4,
     "metadata": {},
     "output_type": "execute_result"
    }
   ],
   "source": [
    "#This a simple arithmetic expression to mutiply then add integers.\n",
    "(3*4)+5"
   ]
  },
  {
   "cell_type": "markdown",
   "id": "5fff0b10-856d-475c-b232-911e41f29df1",
   "metadata": {},
   "source": [
    "Exercise 9 - Create a code cell to convert minutes to hours"
   ]
  },
  {
   "cell_type": "code",
   "execution_count": 11,
   "id": "7c8382b2-4990-43d1-8e0d-f812e216806f",
   "metadata": {},
   "outputs": [
    {
     "name": "stdout",
     "output_type": "stream",
     "text": [
      "3.3333333333333335\n"
     ]
    }
   ],
   "source": [
    "#This will convert 200 minutes to hours by diving by 60\n",
    "\n",
    "time_min = 200 # minutes\n",
    "\n",
    "time_h = 200/60\n",
    "\n",
    "print(time_h)"
   ]
  },
  {
   "cell_type": "markdown",
   "id": "7bcbe8d4-ab7e-400c-9738-86d3912cdf50",
   "metadata": {},
   "source": [
    "Exercise 11 - Create a markdown cell to indicate the Author's name"
   ]
  },
  {
   "cell_type": "markdown",
   "id": "c51379bf-fc4c-4561-be84-19928c1d31c8",
   "metadata": {},
   "source": [
    "## Author\n",
    "\n",
    "Erasmo M.G"
   ]
  },
  {
   "cell_type": "code",
   "execution_count": null,
   "id": "c1383e09-bb0b-4c3a-be92-a63515790090",
   "metadata": {},
   "outputs": [],
   "source": []
  }
 ],
 "metadata": {
  "kernelspec": {
   "display_name": "Python 3 (ipykernel)",
   "language": "python",
   "name": "python3"
  },
  "language_info": {
   "codemirror_mode": {
    "name": "ipython",
    "version": 3
   },
   "file_extension": ".py",
   "mimetype": "text/x-python",
   "name": "python",
   "nbconvert_exporter": "python",
   "pygments_lexer": "ipython3",
   "version": "3.9.7"
  }
 },
 "nbformat": 4,
 "nbformat_minor": 5
}
